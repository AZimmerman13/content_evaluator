{
 "cells": [
  {
   "cell_type": "code",
   "execution_count": 32,
   "metadata": {},
   "outputs": [],
   "source": [
    "import pandas as pd\n",
    "import numpy as np\n",
    "from sklearn.feature_extraction.text import TfidfVectorizer\n",
    "from nltk.stem import WordNetLemmatizer\n",
    "from sklearn.feature_extraction.text import ENGLISH_STOP_WORDS"
   ]
  },
  {
   "cell_type": "code",
   "execution_count": 2,
   "metadata": {},
   "outputs": [],
   "source": [
    "data  = pd.read_json('../data/train.jsonl', lines=True)"
   ]
  },
  {
   "cell_type": "code",
   "execution_count": 3,
   "metadata": {},
   "outputs": [
    {
     "data": {
      "text/html": [
       "<div>\n",
       "<style scoped>\n",
       "    .dataframe tbody tr th:only-of-type {\n",
       "        vertical-align: middle;\n",
       "    }\n",
       "\n",
       "    .dataframe tbody tr th {\n",
       "        vertical-align: top;\n",
       "    }\n",
       "\n",
       "    .dataframe thead th {\n",
       "        text-align: right;\n",
       "    }\n",
       "</style>\n",
       "<table border=\"1\" class=\"dataframe\">\n",
       "  <thead>\n",
       "    <tr style=\"text-align: right;\">\n",
       "      <th></th>\n",
       "      <th>id</th>\n",
       "      <th>img</th>\n",
       "      <th>label</th>\n",
       "      <th>text</th>\n",
       "    </tr>\n",
       "  </thead>\n",
       "  <tbody>\n",
       "    <tr>\n",
       "      <th>0</th>\n",
       "      <td>42953</td>\n",
       "      <td>img/42953.png</td>\n",
       "      <td>0</td>\n",
       "      <td>its their character not their color that matters</td>\n",
       "    </tr>\n",
       "    <tr>\n",
       "      <th>1</th>\n",
       "      <td>23058</td>\n",
       "      <td>img/23058.png</td>\n",
       "      <td>0</td>\n",
       "      <td>don't be afraid to love again everyone is not ...</td>\n",
       "    </tr>\n",
       "    <tr>\n",
       "      <th>2</th>\n",
       "      <td>13894</td>\n",
       "      <td>img/13894.png</td>\n",
       "      <td>0</td>\n",
       "      <td>putting bows on your pet</td>\n",
       "    </tr>\n",
       "    <tr>\n",
       "      <th>3</th>\n",
       "      <td>37408</td>\n",
       "      <td>img/37408.png</td>\n",
       "      <td>0</td>\n",
       "      <td>i love everything and everybody! except for sq...</td>\n",
       "    </tr>\n",
       "    <tr>\n",
       "      <th>4</th>\n",
       "      <td>82403</td>\n",
       "      <td>img/82403.png</td>\n",
       "      <td>0</td>\n",
       "      <td>everybody loves chocolate chip cookies, even h...</td>\n",
       "    </tr>\n",
       "  </tbody>\n",
       "</table>\n",
       "</div>"
      ],
      "text/plain": [
       "      id            img  label  \\\n",
       "0  42953  img/42953.png      0   \n",
       "1  23058  img/23058.png      0   \n",
       "2  13894  img/13894.png      0   \n",
       "3  37408  img/37408.png      0   \n",
       "4  82403  img/82403.png      0   \n",
       "\n",
       "                                                text  \n",
       "0   its their character not their color that matters  \n",
       "1  don't be afraid to love again everyone is not ...  \n",
       "2                           putting bows on your pet  \n",
       "3  i love everything and everybody! except for sq...  \n",
       "4  everybody loves chocolate chip cookies, even h...  "
      ]
     },
     "execution_count": 3,
     "metadata": {},
     "output_type": "execute_result"
    }
   ],
   "source": [
    "data.head()\n"
   ]
  },
  {
   "cell_type": "code",
   "execution_count": 49,
   "metadata": {},
   "outputs": [],
   "source": [
    "corpus = data.text.values\n"
   ]
  },
  {
   "cell_type": "code",
   "execution_count": 50,
   "metadata": {},
   "outputs": [
    {
     "data": {
      "text/plain": [
       "8500"
      ]
     },
     "execution_count": 50,
     "metadata": {},
     "output_type": "execute_result"
    }
   ],
   "source": [
    "len(corpus)"
   ]
  },
  {
   "cell_type": "code",
   "execution_count": 51,
   "metadata": {},
   "outputs": [],
   "source": [
    "vec = TfidfVectorizer(max_features=3000, ngram_range=(1,2), stop_words='english', tokenizer=wordnet_lemmetize_tokenize)\n",
    "sw = ENGLISH_STOP_WORDS"
   ]
  },
  {
   "cell_type": "code",
   "execution_count": 52,
   "metadata": {},
   "outputs": [],
   "source": [
    "X = vec.fit_transform(corpus)"
   ]
  },
  {
   "cell_type": "code",
   "execution_count": 53,
   "metadata": {},
   "outputs": [
    {
     "name": "stdout",
     "output_type": "stream",
     "text": [
      "['!', '!!', '\"', '\"a', '\"do', '\"give', '\"give taste', '\"ham\"', '\"ham\" mohamed', '\"i', '\"i don\\'t', '\"i love', '\"i\\'ll', '\"i\\'m', '\"if', '\"islam', '\"islam love!\"', '\"it\\'s', '\"look', '\"never', '\"never forget\"', '\"saggin.\"', '\"that\\'s', '\"the', '\"the way', '\"we', '\"we don\\'t', '\"what', '\"when', '\"where', '\"why', '\"you', '\"you\\'re', '\"you\\'re next.\"', '\"your', '&', \"''\", \"'' ''\", \"'cause\", \"'em\", \"'just\", \"'just doing\", '(1963)', '*creates', ',', '-', '.', '..', '...', '...and', '...but', '000', '1', '1.', '10', '100', '12', '13', '14', '15', '15th', '16', '17', '18', '18 year', '19', '1942', '1945', '1st', '2', '2 year', '2.', '20', '2001', '2001 defund', '2001 muslim', '2016', '2017', '2018', '2019', '2019 defund', '2020', '25', '2nd', '3', '3 million', '3.', '30', '4', '4 year', '4.', '400', '49', '49 people', '4th', '4th july', '5', '5 year', '50', '6', '6 million', '6 year', '72', '8', '9', '9/11', '911', '99', '99 problem', ':', '?', 'abdul', 'able', 'abomination', 'abortion', 'absolutely', 'abuse', 'academy', 'accept', 'accepted', 'accident', 'accidentally', 'accidently', 'accused', 'act', 'act like', 'acting', 'action', 'actual', 'actually', 'adam', 'adapt.', 'adapt. overcome', 'add', 'adding', 'adding coolant', 'adopt', 'adopted', 'adult', 'af', 'afford', 'afraid', 'africa', 'african', 'again!', 'agent', 'ago', 'ago,', 'agree', 'ah,', 'ahmed', 'ahmed hit', 'aid', \"ain't\", \"ain't racist\", 'aint', 'air', 'akbar', 'akbar!', 'al', 'al sharpton', 'alabama', 'alabama 5', 'alabama:', 'alabama: ban', 'alcohol', 'alien', 'alien,', 'alien, ineligible', 'alike', 'alive', 'allah', 'allah kill', 'allahu', 'allegiance', 'allegiance country', 'allowed', 'amazing', 'amazing started', 'america', 'america great', 'america white', \"america's\", 'america,', 'america.', 'american', 'amused', 'anal', 'anal sex', 'ancestor', 'ancestry.com', 'angel', 'angry', 'animal', 'ankle', 'anne', 'anne frank', 'anne frankly', 'annoying', 'answer', 'answering', 'ant', 'anthony', 'anti', 'anti-semitic', 'anxiety,', 'anybody', 'anymore', 'ape', 'ape (1963)', 'apparently', 'apparently,', 'appear', 'apple', 'appliance', 'april', 'arab', 'area', 'area 51', \"aren't\", 'arent', 'argue', 'arguing', 'argument', 'ariana', 'ariana grande', 'arm', 'armed', 'army', 'arrest', 'arrest now!', 'arrested', 'arrived', 'art', 'arthur', 'asf', 'ash', 'asian', 'asian driver', 'ask', 'asked', 'asking', 'asks', 'ass', 'ass hand', 'assault', 'asshole', 'asshole,', 'ate', 'attached', 'attack', 'attack peaceful', 'attacked', 'attacking', 'attention', 'attract', 'august', 'auschwitz', 'auschwitz look', 'australia', 'autism', 'autistic', 'automatic', 'automatic tranny', 'average', 'away', 'awesome', 'baboon', 'baby', 'baby auschwitz', 'back!!', \"back!! didn't\", 'bacon', 'bad', 'bad?', 'bag', 'bag popcorn', 'baked', 'balcony', 'ball', 'ban', 'band', 'bang', 'bank', 'banned', 'bar', 'bar.', 'barack', 'barbecue', 'barely', 'barn', 'based', 'basic', 'basically', 'bastard', 'bat', 'bat eye', 'bathroom', 'bc', 'beach', 'bear', 'beard', 'beat', 'beating', 'beautiful', 'beautiful day', 'beauty', 'bed', 'bedroom', 'bee', 'beer', 'beer,', 'begin', 'behead', 'belief', 'believe', 'bell', 'belong', 'belt', 'benefit', 'bert', 'best', 'best friend', 'best thing', 'best way', 'bet', 'better', 'bible', 'big', 'bigger', 'biggest', 'bike', 'billion', 'bird', 'birth', 'birthday', 'bit', 'bitch', 'bitch,', 'black', 'black child', 'black friday', 'black guy', 'black kid', 'black life', 'black man', 'black men', 'black neighborhood', 'black people', 'black woman', 'blame', 'blast', 'blew', 'blind', \"blind i'm\", 'blind people', 'blood', 'bloody', 'blow', 'blowing', 'blowjob', 'blue', 'bob', 'body', 'bomb', 'bomb blast', 'bomb twice', 'bomber', 'bombing', 'boob', 'book', 'booty', 'border', 'born', 'bos', 'bottle', 'bought', 'bout', 'bow', 'bowl', 'box', 'boy', 'boy killing', 'boyfriend', 'brain', 'brand', 'bread', 'break', 'breaking', 'breaking news', 'breath', 'breed', 'breed preserve', 'bride', 'bring', 'bringing', 'brings', 'brings home', 'british', 'bro', 'broke', 'broken', 'broken walmart', 'brother', 'brother commit', 'brought', 'brown', 'bruce', \"bruce jenner's\", 'build', 'building', 'building credit,', 'built', 'bull', 'bullet', 'bullshit', 'bunch', 'buried', 'burka', 'burn', 'burned', 'burning', 'burnt', 'bus', 'business', 'butt', 'butter', 'buy', 'caitlyn', 'cake', 'called', 'called \"saggin.\"', 'calling', 'came', 'camel', 'camel piss', 'camp', 'camp got', \"can't\", \"can't homicide\", \"can't kill\", \"can't run\", \"can't stand\", \"can't wait\", 'canada', 'canadian', 'cancer', 'candidate', 'candle', 'candy', 'cannibalism', 'capable', 'captain', 'car', 'car trouble', 'car?', 'card', 'care', 'careful', 'carry', 'cart', 'case', 'casey', 'casey anthony', 'cash', 'cat', 'catch', 'catch goat', 'cathedral', 'caucasian', 'caught', 'cause', 'caused', 'celebrate', 'celebrating', 'cent', 'cent day', 'center', 'century', 'chain', 'challenge', 'chamber', 'champion', 'chance', 'change', 'change country', 'change mind', 'changed', 'character', 'charge', 'chase', 'cheating', 'cheating ya', 'check', 'cheer', 'chef', 'chelsea', 'chemical', 'chemical bat', 'chemical everybody', 'chevy', 'chevy guy', 'chew', 'chewbacca', 'chicago', 'chick', \"chick can't\", 'chicken', 'chicken black', 'child', 'child left', 'child support', 'children.', 'chill', 'chime', 'chinese', 'chinese food', 'chip', 'chloroform', 'chocolate', 'choice', 'choke', 'choose', 'choose salty', 'chosen', 'christ', 'christchurch', 'christchurch mosque', 'christian', 'christianity', 'christians,', 'christmas', 'chromosome', 'church', 'cinco', 'citizen', 'city', 'civil', 'claim', 'class', 'clean', 'clear', 'clinton', 'clock', 'close', 'close eye', 'clothes', 'club', 'clue', 'cocaine', 'cock', 'coffee', 'coffee maker', 'coke', 'cold', 'collapse', 'college', 'color', 'come', 'come back!!', 'come home', 'coming', 'comment', 'commie', 'commit', 'commit immigration', 'common', 'community', 'company', 'compare', 'complete', 'completely', 'concentration', 'confident', 'confused', 'congress', 'congress 2019', 'congress deportable!', 'congress want', 'conservative', 'consider', 'constitution', 'control', 'cook', 'cook turkey', 'cooker', 'cool', 'coolant', 'coolant farm', 'cop', 'cop:', 'copy', 'corrupt', 'cost', 'cotton', 'cotton remind', \"couldn't\", 'count', 'country', 'country forced', 'country hope', \"country i'm\", 'country including', 'country turned', 'cousin', 'cover', 'cow', 'cowboy', 'crack', 'crackas', 'cracker', 'crap', 'crawling', 'crazy', 'crazy,', 'cream', 'created', 'credit,', 'credit, spending', 'crime', 'criminal', 'cringe', 'crisis', 'cross', 'crossing', 'crotch', 'crush', 'cuddle', 'cult', 'culture', 'culture\"', 'culture\" share', 'cum', 'cunt', 'cup', 'cure', 'customer', 'cut', 'cute', 'cute hell', 'cute,', 'cute.', 'cutting', 'cuz', 'da', 'dad', 'dad,', 'daddy', 'dame', 'dame cathedral', 'damn', 'dangerous', 'dare', 'dark', 'dark humor', 'dat', 'date', 'date black', 'dated', 'dating', 'daughter', 'dawg', 'dawg heard', 'day', 'day pick', 'day!', 'day!!!', 'day,', 'day.', 'day?', 'dead', 'deaf', 'deal', 'deal black', 'dear', 'death', 'decade', 'decent', 'decent coffee', 'decide', 'decided', 'deep', 'defend', 'definitely', 'defund', 'defund homeland', 'degree', 'delicious', 'dem', 'demand', 'democracy', 'democrat', 'democrat party', 'democrat,', 'democrat, ilhan', 'democratic', 'deportable!', 'deportable! ice,', 'deserve', 'destroy', 'destroyed', 'destroying', 'destruction', 'devil', 'diaper', 'diaper people', 'diaper required', 'diary', 'dick', \"dick doesn't\", 'dick tell', 'did', 'did just', 'did know', \"didn't\", \"didn't mean\", 'didnt', 'die', 'died', 'difference', 'difference moderate', 'different', 'dinner', 'dirty', 'disability', 'disease', 'disgusting', 'dishwasher', 'dishwasher acting', 'dishwasher broken', 'dishwasher clean', 'dishwasher sale', 'disorder', 'district', 'divide', 'dna', 'do,', 'do?', 'doctor', 'doe', 'doe know', 'doe make', \"doesn't\", \"doesn't belong\", \"doesn't matter\", \"doesn't mean\", \"doesn't protect\", \"doesn't want\", 'doesnt', 'dog', 'dog look', 'doing', 'doing thing', 'dollar', 'domestic', \"don't\", \"don't believe\", \"don't care\", \"don't forget\", \"don't fuck\", \"don't kill\", \"don't know\", \"don't let\", \"don't life\", \"don't like\", \"don't listen\", \"don't look\", \"don't need\", \"don't poor\", \"don't suck\", \"don't think\", \"don't understand\", \"don't want\", 'donald', 'donald trump', 'dont', 'door', 'double', 'dozen', 'dream', 'dress', 'dress like', 'drink', 'drink camel', 'drinking', 'drive', 'driver', 'driving', 'drop', 'drop bomb', 'dropped', 'drug', 'drunk', 'dry', 'dude', 'dumb', 'dumbass', 'dust', 'duty', 'dy', 'dying', 'e', 'eachother', 'ear', 'early', 'earn', 'earth', 'easier', 'easily', 'east', 'easter', 'eastern', 'easy', 'eat', 'eat dog', 'eat me!', 'eat say', 'eating', 'eats', 'ebola', 'economy', 'economy collapse', 'ed', 'edition', 'education', 'egg', 'elect', 'elected', 'election', 'em', 'email', 'end', 'enemy', 'enemy ilhan', 'enemy infiltrated', 'engine', 'england', 'english', 'enjoying', 'enter', 'entire', 'equal', 'equal right', 'equipment', 'equipment overheats', 'ernie', 'escape', 'escaped', 'escaping', 'estate', 'ethiopian', 'europe', 'european', 'event', 'everybody', 'everybody loses', 'everyday', 'everytime', 'evidence', 'evil', 'evolution', 'evolved', 'ex', 'exchange', 'exchange student', 'excited', 'excuse', 'exemption', 'exemption nazi', 'exist', 'expect', 'expected', 'expected pledge', 'expecting', 'expensive', 'explain', 'exploded', 'explosion', 'extra', 'extra dark', 'eye', 'eye remove', 'face', 'face make', 'facebook', 'faggot', 'fake', 'fall', 'family', 'famous', 'fan', 'farm', 'farm equipment', 'farming', 'fashion', 'fast', 'faster', 'fat', 'father', 'father sell', 'favorite', 'fb', 'fb jail', 'fbi', 'fear', 'fear fear', 'feature', 'federal', 'feed', 'feel', 'feel like', 'feeling', 'feeling cute', 'fell', 'fellow', 'felt', 'female', 'female driver?', 'feminist', 'fetus', 'fidget', 'fidget spinner', 'field', 'fifth', 'fight', 'fight country', 'fighting', 'figure', 'filled', 'film', 'final', 'finally', 'fine', 'fine,', 'finger', 'finished', 'fish', 'fishing', 'fit', 'fitness', 'fix', 'fixed', 'flag', 'flag invader', 'flat', 'flavor', 'flavor choose', 'floor', 'flower', 'flower martin', 'fluffy', 'fluffy born', 'fluffy fluffy', 'fluffy horse', 'fluid', 'fly', 'foil', 'foil jewsy', 'folk', 'follow', 'follow allah', 'follower', 'food', 'food completely', 'food,', 'food?', 'fool', 'foot', 'football', 'for?', 'force', 'forced', 'forced mouth', 'ford', 'ford guy', 'ford owner', 'forehead', 'foreign', 'foreigner', 'forest', 'forest whitaker', 'forever', 'forget', 'forget voting', 'forget\"', 'forgive', 'forgiven', 'forgot', 'forgotten', 'form', 'forward', 'forward hour', 'fought', 'fox', 'frame', 'frank', 'frankly', 'fraud', 'fraud make', 'free', 'free dishwasher', 'free real', 'free shot', 'free talk', 'freedom', 'freeman', 'french', 'fresh', 'friday', 'friday sale', 'fridge', 'friend', 'friend list', 'friend turn', 'friendship', 'fruit', 'fruit vegetable', 'fuck', 'fuck goat', 'fuck islam', 'fuck,', 'fuck, mom', 'fucked', 'fucked gave', 'fucker', 'fuckin', 'fuckin told', 'fucking', 'fucking goat', 'fun', 'fun begin', 'fun peaceful', 'funeral', 'funny', 'future', 'g-spot', 'game', 'gamer', 'gang', 'garbage', 'gas', 'gas chamber', 'gas jew', 'gave', 'gay', 'gay friend', 'gay people', 'gay,', 'gay?', 'gays,', 'gender', 'generation', 'genocide', 'german', 'germany', 'gettin', 'getting', 'gift', 'ginger', 'girl', 'girl suck', 'girl:', 'girlfriend', 'given', 'giving', 'glad', 'glass', 'glass juice', 'goal', 'goat', 'goat fucker', 'goat man', 'god', 'goddamn', 'going', 'going blow', 'going make', 'gold', 'golf', 'gone', 'gonna', 'gonna kill', 'good', 'good day', 'good morning', 'good thing', 'good time', 'google', 'gorilla', 'got', 'got 99', 'got baked', 'got new', 'gotta', 'government', 'government bringing', 'government?', 'grab', 'grammar', 'grande', 'grandma', 'grass', 'great', 'great!', 'greatest', 'green', 'green card', 'greeting', 'grocery', 'ground', 'group', 'group people', 'group sex', 'grow', 'guard', 'guess', \"guess i'll\", 'guilty', 'gum', 'gun', 'gun control', 'guy', 'guy baby', 'guy like', 'guy think', 'gym', 'hahaha', 'hair', 'haircut', 'half', 'halloween', 'ham', 'hammer', 'hand', 'hand drink', 'handed', 'handed lemon', 'handful', 'handjob', 'handjobs', 'handjobs sold', 'hang', 'hanging', 'happen', 'happen action', 'happen!', 'happened', 'happened people', 'happens', 'happier', 'happiness', 'happy', 'happy birthday', 'happy cinco', 'harambe', 'hard', 'hard hit', 'harder', 'hardest', 'hardest breaking', 'harry', 'harvey', \"hasn't\", 'hate', 'hate black', 'hate gay', 'hate nigger', 'hate snow', 'hate woman', 'hater', 'hating', \"haven't\", \"haven't stolen\", 'having', 'having drop', 'having good', 'having seizure', 'having sex', \"he's\", \"he's marrying\", \"he's probably\", 'head', 'head diaper', 'head,', 'head, count', 'health', 'healthcare', 'healthy', 'hear', 'heard', 'hears', 'heart', 'heat', 'heaven', 'hebrew', 'hebrew day', 'hell', 'hell did', 'hello', 'helmet', 'help', 'help?', 'helped', 'her:', 'here\"', \"here's\", 'here,', 'hero', 'heroin', 'hey', 'hey muslim', 'hey,', 'hey, just', 'hi', 'hi 5', 'hide', 'hide seek', 'hiding', 'high', 'high school', 'highest', 'hijab', \"hijab it's\", 'hill', 'hillary', 'hillary clinton', \"hillary's\", 'him:', 'him: dishwasher', 'him?', 'hindu', 'hiroshima', 'history', 'history?', 'hit', 'hit better', 'hit g-spot', 'hitler', 'hitler:', 'hitting', 'hockey', 'hoe', 'hold', 'holding', 'hole', 'holiday', 'holocaust', 'holy', 'home', 'home girlfriend', 'homeland', 'homeland security', 'homeland security!', 'homeless', 'homicide', 'homie', 'homosexual', 'homosexuality', 'honor', 'hooker', 'hope', 'hope change', 'horny', 'horrible', 'horse', 'hot', 'hour', 'house', 'housing', 'human', 'humor', 'humor like', 'hump', 'hungry', 'hunting', 'hurry', 'hurt', 'husband', 'husband,', \"i'd\", \"i'd like\", \"i'll\", \"i'll bomb\", \"i'll shot\", \"i'm\", \"i'm black\", \"i'm fucking\", \"i'm going\", \"i'm gonna\", \"i'm just\", \"i'm racist\", \"i'm really\", \"i'm saying\", \"i'm sorry\", \"i'm sorry,\", \"i'm sure\", \"i'm trying\", \"i'm unclean\", \"i've\", \"i've got\", \"i've seen\", \"i've told\", 'i?', 'ice', 'ice cream', 'ice,', 'ice, you?', 'idea', 'identify', 'idiot', 'idk', 'ignorance', 'ignorant', 'ilhan', 'ilhan omar', 'ilhan omar,', 'ill', 'illegal', 'illegal alien', 'illegal alien,', 'illegal immigrant', 'illegal immigration', 'illegals', 'illness', 'im', 'im doing', 'image', 'imagine', 'imagine group', 'imma', 'immigrant', 'immigrant illegal', 'immigrant problem', 'immigration', 'immigration fraud', 'impeach', 'implant', 'important', 'impress', 'improvise.', 'improvise. adapt.', 'in!', 'in.', 'including', 'including america', 'india', 'indian', 'ineligible', 'ineligible congress', 'infiltrate', 'infiltrated', 'infiltrated congress', 'influence', 'innocent', 'innocent people', 'inside', 'instead', 'insult', 'intelligence', 'internet', 'interview', 'invade', 'invader', 'invading', 'invention', 'invite', 'invited', 'iq', 'iran', 'isi', 'isi strip', 'islam', 'islam religion', 'islam.', 'islamic', 'islamic country', \"isn't\", 'israel', 'it!', 'it\"', \"it's\", \"it's called\", \"it's diaper\", \"it's free\", \"it's hijab\", \"it's just\", \"it's like\", \"it's okay\", \"it's simple\", \"it's time\", \"it's turn\", 'it,', 'it.', 'it:', 'it: abomination', 'it?', 'jail', 'jamal', 'james', 'japan', 'japanese', 'japanese girlfriend', 'jaw', 'jaw need', 'jelly', 'jenner', \"jenner's\", \"jenner's cat\", 'jesus', 'jew', 'jew control', 'jew jew', 'jew?', 'jewish', 'jewish girl', 'jews,', 'jews:', 'jews?', 'jewsy', 'job', 'job,', 'job, started', \"jobs'\", 'joe', 'joe biden', 'john', 'join', 'joke', 'juice', 'juice gas', 'july', 'jump', 'june', 'just', \"just don't\", 'just going', 'just got', 'just like', 'just met', 'just want', 'justin', 'justin trudeau', 'keeping', 'kenyan', 'kept', 'kfc', 'kick', 'kicked', 'kid', 'kid amazing', 'kid like', 'kid start', 'kid:', 'kids,', 'kill', 'kill people', 'kill want', 'kill you!', 'killed', 'killed christchurch', 'killing', 'killing innocent', 'kim', 'kind', 'kind stupid', 'kinda', 'king', 'kiss', 'kitchen', 'kkk', 'knew', 'knock', 'knock.', 'know', 'know deal', 'know like', 'know shes', \"know you're\", 'know,', 'knowing', 'knowing white', 'knowledge', 'known', 'korea', 'korean', 'krispies', 'krispies way', 'l', 'lab', 'lack', 'lady', 'laid', 'land', 'landmine', 'lane', 'language', 'large', 'later', 'later,', 'later, idk', 'latino', 'laugh', 'laugh,', 'laugh, really', 'laundry', 'law', 'law abiding', 'lawn', 'lazy', 'lead', 'leader', 'leaf', 'learn', 'learned', 'leave', 'leave dog', 'leaving', 'left', 'leg', 'legally', 'lemon', 'lemon fucked', 'lemon-aids', 'lesbian', 'let', 'let sink', \"let's\", \"let's make\", 'letter', 'letter mental', 'letting', 'level', 'lgbt', 'lgbtq', 'liberal', 'lick', 'lie', 'life', 'life crime', 'life handed', 'life hate', 'life matter', 'life,', 'lifestyle', 'light', 'light district', 'like', \"like ''\", 'like bitch', 'like black', 'like dog', 'like food', 'like happy', \"like i'm\", 'like im', \"like it's\", 'like just', 'like killing', 'like like', 'like me?', 'like people', 'like slave', 'like that?', 'like,', 'like..', 'like...', 'like:', 'linda', 'linda sarsour', 'line', 'list', 'listen', 'lit.', 'literally', 'little', 'little foil', 'live', 'lived', 'livestock', 'living', 'lmao', 'load', 'load dishwasher', 'loaf', 'local', 'lock', 'lol', 'lol nevermind', 'lonely', 'long', 'long day', 'long time', 'longer', 'look', 'look dad', 'look like', 'look son', 'look!', 'look,', 'looking', 'lord', 'lose', 'loses', 'loses shit', 'lost', 'lot', 'love', 'love god', 'love love', 'love pudding', 'love!\"', 'loved', 'lover', 'low', 'low,', 'low, white', 'loyalty', 'luck', 'lucky', 'lunch', 'luther', 'luther king', \"lyin'\", 'lying', 'ma', \"ma'am!\", 'mad', 'mad?', 'maga', 'magic', 'make', 'make ahmed', 'make america', 'make black', 'make fun', 'make illegal', 'make peace', 'make sense', 'make sure', 'make white', 'make work', 'maker', 'makeup', 'making', 'male', 'man', 'man need', \"man's\", 'man,', 'man.', 'mandatory', 'manditory', 'manditory vaccination', 'manual', 'manual tranny', 'map', 'march', 'mark', 'mark left', 'market', 'marriage', 'married', 'married brother', 'marry', 'marrying', \"marrying why's\", 'martin', 'martin luther', 'mashed', 'mass', 'mass shooting', 'master', 'master chef', 'matter', 'matter lol', 'maybe', 'mayo', 'me!', 'me\"', 'me,', 'me.', 'me...', 'me:', 'me?', 'mean', \"mean don't\", 'mean?', 'meant', 'meat', 'medical', 'medicine', 'medium', 'meet', 'meeting', 'mein', 'member', 'member congress', 'meme', 'men', 'men like', 'mengele', 'mental', 'mental disorder', 'mental illness', 'mentally', 'mentally ill', 'menu', 'mess', 'message', 'messenger', 'met', 'met you,', 'meth', 'mexican', 'mexico', 'michael', 'michelle', 'michelle obama', 'middle', 'middle east', 'middle eastern', 'midget', 'mile', 'military', 'milk', 'million', 'million dollar', 'million jew', 'million people', 'mind', 'minor', 'minority', 'minute', 'miss', 'missing', 'mississippi', 'mississippi wind', 'mistake', 'mix', 'mix breed', 'mixed', 'mock', 'moderate', 'moderate muslim', 'modern', 'mohamed', 'mohammad', 'mohammad come', 'mohammed', 'mohammed tired', 'mom', 'mom gonna', 'mom,', 'mom.', 'moment', 'monday', 'money', 'monkey', 'month', 'moral', 'morgan', 'morgan freeman', 'morning', 'mosque', 'mosque muslim', 'mother', 'motherfucker', \"motherfucker it's\", 'mountain', 'mouth', 'mouth shut', 'mouth shut.', 'movie', 'mowing', 'mr.', 'muddin', \"muddin'\", 'mueller', 'muhammad', 'muhammed', 'multiple', 'mum', 'murder', 'murdered', 'murdering', 'muscle', 'music', 'muslim', 'muslim 2001', 'muslim 49', 'muslim congress', 'muslim eat', 'muslim follow', 'muslim kid', 'muslim kill', 'muslim muslim', 'muslim porn', 'muslim radical', 'muslim sex', 'muslim sympathizer,', 'muslim terrorist', 'muslim walk', 'muslim woman', 'muslims!', 'muslims\"', 'musslamic', 'musslamic democrat,', 'mustache', 'n', 'n-word', 'nahir', 'nahir born', 'nahir german', 'nahir nahir', 'nail', 'naked', \"name's\", 'named', 'nasa', 'nation', 'nation islam', 'national', 'national hebrew', 'native', 'native american', 'nativity', 'nativity play', 'natural', 'navy', 'nazi', 'nazi coming', 'neck', 'need', 'need ?', 'need decent', 'need mix', 'need new', 'need sandwich', 'need tell', 'needed', 'negro', 'neighbor', 'neighbor candle', \"neighbor's\", 'neighborhood', 'neighborhood offer', 'neighbour', 'nein', 'nevermind', 'new', 'new dishwasher', 'new job,', 'new pet', 'new york', 'new zealand', 'news', 'next.\"', 'next.\" so,', 'nibba', 'nice', 'nigger', 'night', 'no,', 'nobody:', 'non', 'normal', 'north', 'north korea', 'notice', 'november', 'now!', 'now,', 'now?', 'nuclear', 'number', 'nut', 'o', 'obama', 'obama voter', \"obama's\", 'obama?', 'obviously', 'ocasio-cortez', 'ocasto-cortez', 'october', 'offend', 'offended', 'offends', 'offensive', 'offensive,', 'offer', 'offer neighbor', 'offered', 'office', 'officer', 'official', 'oh', 'oh boy', 'oh fuck', 'oh look', \"oh you're\", 'oh,', \"oh, you're\", 'oil', 'ok', 'ok,', 'okay', 'old', 'old people', 'older', 'omar', 'omar linda', 'omar,', 'omar, threatened', 'omg', 'on,', 'one.', 'one:', 'open', 'opening', 'opening role', 'orange', 'order', 'ordered', 'orgasm', \"other's\", 'out.', 'outside', 'outta', 'oven', 'overcome', 'overheats', 'owner', 'owner coming', 'pack', 'page', 'paid', 'pant', 'pant low,', 'panty', 'panty cotton', 'paper', 'parent', 'park', 'partner', 'party', 'passed', 'past', 'patience', 'patient', 'patriot', 'pay', 'paying', 'peace', 'peace!', \"peace! don't\", 'peace?', 'peaceful', 'peaceful muslims!', 'peaceful religion', 'peanut', 'pedal', 'pedophile', 'pee', 'pelosi', 'penis', 'penny', 'people', \"people 'just\", 'people 10', 'people 5', \"people aren't\", 'people bomb', 'people called', 'people christian', 'people did', \"people doesn't\", \"people don't\", 'people guess', 'people gun', 'people hate', \"people he's\", 'people just', 'people killed', 'people like', 'people make', 'people read', 'people say', 'people shit', 'people shooting', 'people think', 'people wedding', 'people!', 'people,', 'people.', 'people:', 'people?', 'perfect', 'period', 'person', 'pet', 'pew', 'phobia', 'phone', 'photo', 'pic', 'pick', 'picked', 'picture', 'piece', 'piece shit', 'pig', 'pile', 'pile rock', 'pill', 'pink', 'pink slip', 'piss', 'pissed', 'pizza', 'place', 'plan', 'plane', 'planet', 'planet ape', 'planned', 'plastic', 'play', 'play cowboy', 'play game', 'play son', 'played', 'player', 'playing', 'please!', 'please,', 'pledge', 'pledge allegiance', 'pls', 'point', 'poke', 'poke say', 'poland', 'police', 'police academy', 'police officer', 'polish', 'polish chemical', 'political', 'politician', 'politics', 'poo', 'pool', 'poop', 'poor', 'poor white', 'pop', 'popcorn', 'pope', 'population', 'pork', 'porn', 'porn star', 'portrait', 'position', 'post', 'post offensive', 'potato', 'pound', 'poverty', 'powder', 'power', 'ppl', 'practice', 'praise', 'pray', 'prayer', 'praying', 'precious', 'predominantly', 'prefer', 'pregnant', 'present', 'preserve', 'preserve specie', 'president', 'president resident', 'president trump', 'president!', 'president,', 'press', 'pretend', 'pretty', 'pretty cringe', 'price', 'priceless', 'pride', 'pride month', 'princess', 'prison', 'prisoner', 'privilege', 'prize', 'pro', 'probably', 'probably father', 'problem', 'problem appear', 'problem fixed', 'problem problem', 'problem require', 'profile', 'promise', 'promised', 'proof', 'prostitute', 'protect', 'protection', 'protest', 'protesting', 'proud', 'prove', 'prove pushed', 'provide', 'proving', \"proving don't\", 'public', 'pudding', 'pudding dick', 'pudding pudding', 'puff', 'pug', 'pull', 'pulled', 'pump', 'punch', 'punching', 'puppy', 'purchase', 'push', 'pushed', 'pushed balcony', 'pushing', 'pussy', \"put'n\", 'put\\'n \"ham\"', 'putting', 'queer', 'question', 'quickly', 'quite', 'quran', 'r', 'race', 'racing', 'racing pink', 'racism', 'racist', 'racist black', 'racist mean', 'racist,', 'radical', 'radical muslim', 'raise', 'raised', 'rally', 'rap', 'rape', 'raped', 'raping', 'rapist', 'rare', 'rashida', 'rashida tlaib', 'rat', 'rate', 'rating', 'raw', 'ray', 'reach', 'reaction', 'read', 'reading', 'ready', 'real', 'real estate', 'real life', 'realize', 'realized', 'really', 'really size', 'really sorry', 'reason', 'rebuilt', 'rebuilt tranny', 'record', 'red', 'red light', 'red,', 'redneck', 'refugee', 'refuse', 'religion', 'religion peace', 'religious', 'remember', 'remind', 'remind slavery', 'remove', 'remove polish', 'removed', 'rep.', 'report', 'republican', \"republican she'll\", 'require', 'required', 'required shit', 'research', 'respect', 'responsible', 'rest', 'restaurant', 'restroom', 'result', 'retard', 'retarded', 'retodd', 'return', 'returning', 'rev', 'rice', 'rice krispies', 'rich', 'rid', 'rid homeland', 'ride', 'ridiculous', 'right', 'right,', 'ring', 'rise', 'rise planet', 'river', 'road', 'roast', 'robbed', 'rock', 'rock &', 'rohingya', 'role', 'role chewbacca', 'roll', 'rolling', 'romania', 'roof', 'rookie', 'rookie number', 'room', 'rose', 'rose red,', 'rub', 'rule', 'ruled', 'run', 'run away', 'run?', 'running', 'russia', 'russian', 's', 'sack', 'sacred', 'sad', 'saddle', 'saddle motherfucker', 'safe', 'safety', 'saggin', 'said', 'said \"i', \"said couldn't\", 'said forget', 'said glass', 'said,', 'said..', 'said...', 'sale', 'sale missing', 'salty', 'salute', 'sanctuary', 'sand', 'sandwich', 'sandwich maker', 'sandy', 'sandy hook', 'sarsour', 'sarsour rashida', 'savage', 'save', 'saving', 'saw', 'say', 'say \"you', 'say \"you\\'re', 'say arrest', \"say don't\", 'say right', \"say you're\", 'saying', 'says,', 'scared', 'school', 'school shooter', 'school shooting', 'science', 'scientist', 'scout', 'scream', 'scream oven', 'screaming', 'scum', 'sea', 'sea monkey', 'seat', 'seatbelt', 'second', 'secret', 'section', 'security', 'security let', 'security!', 'security! muslim', 'see,', 'see?', 'see? fuckin', 'seeing', 'seek', 'seen', 'seizure', 'self', 'selfie', 'selfies', 'sell', 'sell goat', 'selling', 'senate', 'send', 'send \"shawarma\",', 'sending', 'senior', 'sense', 'sense humor', 'sensitive', 'sent', 'separately', 'seperately', 'seriously', 'service', 'serving', 'serving country', 'set', 'setting', 'settle', 'sex', 'sex mohammed', 'sex?', 'sexbomb', 'sexbomb sexbomb', 'sexual', 'sexy', 'shade', 'shake', 'shame', 'shape', 'share', 'share agree', 'share say', 'sharia', 'sharia law', 'sharpton', 'shave', \"she'll\", \"she'll send\", \"she's\", \"she's told\", 'sheep', 'shes', 'ship', 'shirt', 'shit', 'shit brain', 'shit,', 'shitty', 'shoe', 'shoot', 'shooter', 'shooting', 'shop', 'short', 'shot', 'shoulder', \"shouldn't\", 'showed', 'shower', 'showing', 'shut', 'shut.', 'sick', 'sign', 'silent', 'silk', 'silk panty', 'similar', 'simple', 'simply', 'simulator', 'sin', 'single', 'sink', 'sister', 'sit', 'sitting', 'size', 'skin', 'slam', 'slap', 'slave', 'slavery', 'sleep', 'slip', 'slip africa', 'slipped', 'slow', 'slow cooker', 'slut', 'small', 'small dick', 'smart', 'smash', 'smell', 'smell like', 'smile', 'smoke', 'smoking', 'snack', 'snake', 'snap', 'snort', 'snow', 'snowflake', 'so,', 'so, started', 'so, think', 'social', 'socialism', 'socialist', 'society', 'sold', 'soldier', 'solution', 'somebody', \"someone's\", 'son', 'son invited', 'son,', 'song', 'soon', 'sorry', 'sorry,', 'soul', 'sound', 'sound like', 'soup', 'south', 'space', 'span', 'spastic', 'speak', 'speaking', 'special', 'special kind', 'specie', 'specific', 'speech', 'speed', 'spell', 'spell saggin', 'spend', 'spending', 'spending time', 'spinner', 'sport', 'spot', 'spreading', 'squad', 'squad lit.', 'squirrel', 'squirter', 'stable', 'stable fluffy', 'stamp', 'stand', 'stand fishing', 'standing', 'star', 'stare', 'staring', 'start', 'start talking', 'started', 'started building', 'started doing', 'started happen!', 'started wearing', 'starting', 'starving', 'starving child', 'state', 'status', 'stay', 'steak', 'steak black', 'steal', 'stealing', 'step', 'stephen', 'stepped', 'stevie', 'stevie wonder', 'stick', 'stole', 'stolen', 'stolen week', 'stone', 'stoned', 'stop', 'stop illegal', 'stopped', 'store', 'story', 'straight', 'street', 'strength', 'strip', 'strip club', 'strong', 'stronger', 'student', 'study', 'stuff', 'stupid', 'stupid government', 'style', 'subway', 'suck', 'sucking', 'suddenly', 'suffer', 'suffering', 'suicide', 'suicide bombing', 'summer', 'sun', 'sunday', 'super', 'support', 'supporter', 'supporter like', 'supposed', 'supremacist', 'sure', 'suspect', 'swear', 'sweet', 'swim', 'swimming', 'sympathizer,', 'sympathizer, killing', 'syndrome', 't', 'table', 'taco', 'taco bell', 'tag', 'taken', 'taking', 'talk', 'talk trash', 'talking', 'talking shit', 'tall', 'tap', 'tape', 'target', 'taste', 'taste culture\"', 'tattoo', 'tax', 'tea', 'teach', 'teacher', 'teacher:', 'teaching', 'team', 'teeth', 'television', 'tell', 'tell jewish', 'telling', \"telling can't\", 'term', 'terrible', 'terror', 'terror attack', 'terrorism', 'terrorist', 'terrorist attack', 'test', 'texas', 'text', 'thank', 'thanksgiving', 'that!', \"that'd\", \"that's\", \"that's black\", \"that's right\", 'that,', 'that?', 'thats', 'theft', 'theirs', 'them!', 'them,', 'them.', 'them:', 'them?', 'then,', 'then.', 'therapy', \"there's\", \"there's opening\", \"they'll\", \"they'll actually\", \"they'll economy\", \"they're\", \"they've\", 'thing', 'thing come', 'thing ethiopian', 'thing funeral', 'think', \"think it's\", 'think muslim', \"think you're\", 'thinking', 'this?', 'thought', 'thousand', 'threat', 'threatened', 'threatened member', 'throw', 'throwing', 'till', 'time', 'time camp', 'time kid', 'time make', 'time play', 'time!', 'time,', 'time..', 'time?', 'tire', 'tired', 'tit', 'titty', 'tlaib', 'toast', 'today', 'toe', 'toilet', 'told', 'told prove', 'told republican', 'told you!', 'tolerance', 'too!', 'took', 'total', 'touch', 'tough', 'town', 'toy', 'trade', 'trailer', 'trailer park', 'train', 'tranny', 'tranny automatic', 'tranny fluid', 'tranny rebuilt', 'trans', 'trans woman', 'transgender', 'transphobic', 'trash', 'trash country', 'treasure', 'treat', 'treat like', 'tree', 'tribe', 'trick', 'tried', 'trip', 'troop', 'trouble', 'truck', 'trudeau', 'true', 'trump', 'trump day', 'trump said', 'trump supporter', \"trump's\", 'trust', 'truth', 'try', 'trying', 'trying impress', 'trying load', 'tuesday', 'turkey', 'turn', 'turn fruit', 'turned', 'turned pile', 'tv', 'twice', 'twin', 'type', 'typical', 'tyranny', 'tyrone', 'tyrone got', 'u', 'u.s.', 'u.s. president', 'uber', 'ugly', 'ugly head,', 'ugly,', 'ultimate', 'unarmed', 'unarmed black', 'uncle', 'unclean', 'uncooked', 'understand', 'understand?', 'understanding', 'united', 'unless', 'up!', 'up,', 'up.', 'up...', 'up... lol', 'up?', 'upset', 'ur', 'usa', 'use', 'use oven', 'used', 'using', 'v', \"v they'll\", 'vaccination', 'vaccination exemption', 'vagina', 'vegan', 'vegetable', 'vegetable soup', 'vegetable told', 'veteran', 'vibe', 'victim', 'video', 'video game', 'view', 'violence', 'virgin', 'visit', 'visiting', 'vitiligo', 'voice', 'vote', 'voted', 'voter', 'voting', 'voting government?', 'wait', 'wait,', 'wait, mohammad', 'waiting', 'wake', 'waking', 'wal-mart', 'walk', 'walk bar', 'walk bar.', 'walked', 'walking', 'wall', 'wall.', 'wallet', 'walmart', 'walmart new', 'wanna', 'want', 'want country', 'want rid', 'want stupid', 'want talk', 'wanted', 'wanted just', 'war', 'warm', 'warning', 'wash', 'washed', \"wasn't\", 'wasted', 'watch', 'watching', 'water', 'watermelon', 'wave', 'wax', 'way', 'way home', 'wayment', \"we'll\", \"we'll kill\", \"we're\", \"we've\", 'weak', 'weapon', 'wear', 'wear silk', 'wearing', 'wearing pant', 'wedding', 'wedding poke', 'weed', 'week', 'weekend', 'weird', 'welcome', 'welfare', 'well,', 'went', 'west', \"what's\", \"what's difference\", \"what's worse\", 'what?', 'whats', 'whats difference', 'whats wrong', 'wheel', 'wheel frame', 'wheelchair', \"where's\", \"where's jaw\", 'whip', 'white', 'white child', 'white folk', 'white girl', 'white guy', 'white house', 'white kid', 'white male', 'white man', 'white men', 'white people', 'white people:', 'white person', 'white trash', 'white woman', 'white,', \"who's\", 'whore', 'wife', 'wife cheating', \"wife's\", 'win', 'wind', 'wind chime', 'window', 'wine', 'wing', 'wing wing', 'winner', 'wipe', 'wipe ass', 'wish', 'woke', 'woman', 'woman like', 'woman minority', 'woman think', 'woman women,', 'woman,', \"women's\", 'women,', 'won', \"won't\", 'wonder', 'wonderful', 'wondering', 'word', 'work', 'work hard', 'working', 'working?', 'world', 'worse', 'worship', 'worst', \"wouldn't\", 'wrong', 'wrong hole', 'wrong,', 'ww2', 'wwii', 'x', \"y'all\", 'ya', 'ya allah', 'ya fucked', 'yall', 'yard', 'yeah', 'yeah,', 'year', 'year old', 'year tyrone', 'year,', 'yell', 'yelling', 'yes', 'yes,', 'yesterday', 'yo', 'yo dawg', 'york', 'you!', 'you!!!', \"you'd\", \"you'll\", \"you're\", \"you're doing\", \"you're feeling\", \"you're fucking\", \"you're gay\", \"you're getting\", \"you're goat\", \"you're going\", \"you're gonna\", \"you're home\", \"you're just\", \"you're lonely\", \"you're looking\", \"you're mad\", \"you're muslim\", \"you're rapist,\", \"you're special\", \"you're stupid\", \"you're telling\", \"you're tired\", \"you're trying\", \"you're white\", \"you're wrong\", \"you've\", \"you've finished\", 'you,', 'you.', 'you?', 'young', 'yr', 'zealand', 'zionist', 'zone']\n"
     ]
    }
   ],
   "source": [
    "print(vec.get_feature_names())"
   ]
  },
  {
   "cell_type": "code",
   "execution_count": 26,
   "metadata": {},
   "outputs": [],
   "source": [
    "def wordnet_lemmetize_tokenize(text):\n",
    "    '''\n",
    "    Custom tokenizer object that applies WordNetLemmatizer\n",
    "    Intended to be passed into CountVectorizer as a tokenizer object\n",
    "    '''\n",
    "    lemmatizer = WordNetLemmatizer()\n",
    "    words = text.split()\n",
    "\n",
    "    # additional lemmatization terms\n",
    "    additional_lemmatize_dict = {\n",
    "        \"accidentally\": \"accident\",\n",
    "        \"accidently\": \"accident\",\n",
    "        \"thanks\": \"thank\"\n",
    "    }\n",
    "    \n",
    "    tokens = []\n",
    "    for word in words:\n",
    "        if word not in sw:\n",
    "            if word in additional_lemmatize_dict:\n",
    "                clean_word = additional_lemmatize_dict[word]\n",
    "            else:\n",
    "                clean_word = lemmatizer.lemmatize(word)\n",
    "            tokens.append(clean_word)\n",
    "    return tokens"
   ]
  },
  {
   "cell_type": "code",
   "execution_count": 48,
   "metadata": {},
   "outputs": [
    {
     "data": {
      "text/plain": [
       "array([0, 0, 0, ..., 1, 1, 1])"
      ]
     },
     "execution_count": 48,
     "metadata": {},
     "output_type": "execute_result"
    }
   ],
   "source": [
    "data.label.values"
   ]
  },
  {
   "cell_type": "code",
   "execution_count": null,
   "metadata": {},
   "outputs": [],
   "source": []
  }
 ],
 "metadata": {
  "kernelspec": {
   "display_name": "Python 3",
   "language": "python",
   "name": "python3"
  },
  "language_info": {
   "codemirror_mode": {
    "name": "ipython",
    "version": 3
   },
   "file_extension": ".py",
   "mimetype": "text/x-python",
   "name": "python",
   "nbconvert_exporter": "python",
   "pygments_lexer": "ipython3",
   "version": "3.7.6"
  }
 },
 "nbformat": 4,
 "nbformat_minor": 4
}
